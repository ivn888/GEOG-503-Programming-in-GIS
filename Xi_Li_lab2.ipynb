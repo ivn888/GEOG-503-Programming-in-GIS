{
 "cells": [
  {
   "cell_type": "markdown",
   "metadata": {},
   "source": [
    "# GEOG 503A - Lab 2\n",
    "\n",
    "File name convention for assignment submissions: **lastname_firstname_lab2.ipynb**"
   ]
  },
  {
   "cell_type": "markdown",
   "metadata": {},
   "source": [
    "# Question 1\n",
    "\n",
    "Write a program that prompts a user for entering a grade (0 -100) and whether he/she has earned the extra credit (‘Yes’ or ‘No’). If ‘Yes’, add 3 extra credits to his/her grade, then print out the letter grade he/she should receive based on the grading scheme below.  (10 pt.)\n",
    "\n",
    "Letter Grade\t% of Points\n",
    "\n",
    "A\t93.00 – 100%\n",
    "\n",
    "A-\t90.00 – 92.99%\n",
    "\n",
    "B+\t87.00 – 89.99%\n",
    "\n",
    "B\t82.00 – 86.99%\n",
    "\n",
    "B-\t80.00 – 81.99%\n",
    "\n",
    "C+\t77.00 – 79.99%\n",
    "\n",
    "C\t72.00 – 76.99%\n",
    "\n",
    "C- \t70.00 – 71.99%\n",
    "\n",
    "D\t60.00 – 69.99%\n",
    "\n",
    "F\t0.00   – 59.99%\n"
   ]
  },
  {
   "cell_type": "code",
   "execution_count": 25,
   "metadata": {
    "collapsed": false
   },
   "outputs": [
    {
     "name": "stdout",
     "output_type": "stream",
     "text": [
      "Enter the new_grade: 30\n",
      "Extra credit or not? (Yes or No?):Yes\n",
      "F\n"
     ]
    }
   ],
   "source": [
    "def final_grade(new_grade, extra_credit):\n",
    "    \n",
    "    if extra_credit:\n",
    "        grade = new_grade + 3\n",
    "    else:\n",
    "        grade = new_grade\n",
    "\n",
    "    if grade < 59.99:\n",
    "        print('F')\n",
    "    elif grade < 69.99:\n",
    "        print('D')\n",
    "    elif grade < 71.99:\n",
    "        print('C-')\n",
    "    elif grade < 76.99:\n",
    "        print('C')\n",
    "    elif grade < 79.99:\n",
    "        print('C+')\n",
    "    elif grade < 81.99:\n",
    "        print('B-')\n",
    "    elif grade < 86.99:\n",
    "        print('B')\n",
    "    elif grade < 89.99:\n",
    "        print('B+')\n",
    "    elif grade < 92.99:\n",
    "        print('A-')\n",
    "    else:\n",
    "        print('A')\n",
    "\n",
    "new_grade = float(input('Enter the new_grade: '))\n",
    "ex_credit = input(\"Extra credit or not? (Yes or No?):\")\n",
    "\n",
    "extra_credit = False\n",
    "if ex_credit.lower() == \"yes\" or ex_credit.lower() == \"y\":\n",
    "    extra_credit = True\n",
    "\n",
    "final_grade(new_grade,extra_credit)"
   ]
  },
  {
   "cell_type": "markdown",
   "metadata": {},
   "source": [
    "# Question 2\n",
    "\n",
    "Write a program that repeatedly prompts a user for numbers until the user enters 'done'. Once 'done' is entered, print out the largest, smallest, sum, and average of the numbers. If the user enters anything other than a valid number put out an appropriate message and ignore the number. (10 pt.)\n"
   ]
  },
  {
   "cell_type": "code",
   "execution_count": 5,
   "metadata": {
    "collapsed": false
   },
   "outputs": [
    {
     "name": "stdout",
     "output_type": "stream",
     "text": [
      "enter a number: 1\n",
      "enter a number: done\n",
      "largest:1.0,smallest:1.0,sum:str(sum(list)),average:1.0\n"
     ]
    }
   ],
   "source": [
    "list=[]\n",
    "while True:\n",
    "\n",
    "    x = input('enter a number: ')\n",
    "    if x==\"done\":\n",
    "        break\n",
    "    try:\n",
    "        y=float(x)\n",
    "        list.append(y)\n",
    "    except ValueError:\n",
    "        print(\"Oops! That was no valid number. Try again...\")\n",
    "        break\n",
    "        \n",
    "print(\"largest:\"+str(max(list))+\",\"+\"smallest:\"+str(min(list))+\",\"+\"sum:\"+\"str(sum(list))\"+\",\"+\"average:\"+str(sum(list)/len(list)))"
   ]
  },
  {
   "cell_type": "markdown",
   "metadata": {},
   "source": [
    "# Question 3\n",
    "\n",
    "Write a program to find out names listed in **names_1.csv** but not in **names_2.csv**. (20 pts.)"
   ]
  },
  {
   "cell_type": "code",
   "execution_count": 66,
   "metadata": {
    "collapsed": false
   },
   "outputs": [
    {
     "name": "stdout",
     "output_type": "stream",
     "text": [
      "C:\\Users\\lxi1\\Anaconda3\\Scripts\\Li's notebook\n"
     ]
    }
   ],
   "source": [
    "wd = os.getcwd()\n",
    "print(wd)"
   ]
  },
  {
   "cell_type": "code",
   "execution_count": 67,
   "metadata": {
    "collapsed": false
   },
   "outputs": [
    {
     "name": "stdout",
     "output_type": "stream",
     "text": [
      "C:\\Users\\lxi1\\Anaconda3\\Scripts\\Li's notebook\n"
     ]
    }
   ],
   "source": [
    "file_path = r\"C:\\Users\\lxi1\\Anaconda3\\Scripts\\Li's notebook\"\n",
    "print(file_path)"
   ]
  },
  {
   "cell_type": "code",
   "execution_count": 70,
   "metadata": {
    "collapsed": false
   },
   "outputs": [
    {
     "name": "stdout",
     "output_type": "stream",
     "text": [
      "Grzybowski Matthew\n",
      "Huang Yingnan\n",
      "Kim Richard\n",
      "Novak Kathryn\n",
      "Vega Alexander\n",
      "Weber Kaelie\n"
     ]
    }
   ],
   "source": [
    "import os\n",
    "import csv\n",
    "list3=[]\n",
    "file_path1 = os.path.join(wd,\"names_1.csv\")\n",
    "file_path2 = os.path.join(wd,\"names_2.csv\")\n",
    "with open(file_path1) as f1:\n",
    "    with open(file_path2) as f2:\n",
    "        reader1= csv.reader(f1)\n",
    "        reader2=csv.reader(f2)\n",
    "        list1=[]\n",
    "        list2=[]\n",
    "        for row in reader1:\n",
    "            list1.append(row[3])\n",
    "        for row in reader2:\n",
    "            list2.append(row[2])\n",
    "        for item in list1:\n",
    "            if item not in list2:\n",
    "                list3.append(item)\n",
    "with open(file_path1) as f:\n",
    "    reader1=csv.reader(f)\n",
    "    for row in reader1:\n",
    "        for item in list3:\n",
    "            if row[3]==item:\n",
    "                print(str(row[1]+\" \"+str(row[2])))"
   ]
  }
 ],
 "metadata": {
  "anaconda-cloud": {},
  "kernelspec": {
   "display_name": "Python [conda root]",
   "language": "python",
   "name": "conda-root-py"
  },
  "language_info": {
   "codemirror_mode": {
    "name": "ipython",
    "version": 3
   },
   "file_extension": ".py",
   "mimetype": "text/x-python",
   "name": "python",
   "nbconvert_exporter": "python",
   "pygments_lexer": "ipython3",
   "version": "3.5.2"
  }
 },
 "nbformat": 4,
 "nbformat_minor": 1
}
